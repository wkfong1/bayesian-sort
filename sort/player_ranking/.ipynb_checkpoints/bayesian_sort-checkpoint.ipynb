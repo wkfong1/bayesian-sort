{
 "cells": [
  {
   "cell_type": "markdown",
   "metadata": {
    "extensions": {
     "jupyter_dashboards": {
      "version": 1,
      "views": {
       "grid_default": {
        "col": 0,
        "height": 9,
        "hidden": false,
        "row": 0,
        "width": 12
       },
       "report_default": {}
      }
     }
    }
   },
   "source": [
    "# Using Bayesian inference to rank American football field kickers\n",
    "\n",
    "Data come from [this paper](http://www.sloansportsconference.com/wp-content/uploads/2013/Going%20for%20Three%20Predicting%20the%20Likelihood%20of%20Field%20Goal%20Success%20with%20Logistic%20Regression.pdf) where players are ranked by their 'career make %'\n",
    "\n",
    "One of the problems with this type of ranking/sorting is that it ignores the uncertainty of this point estimate ('career make %'). Intuitively we know that having more samples (number of kicks) will give us less uncertainty. For example, a player who scored 98 out of 100 kicks is _more likely_ to be better than a player who scored 1 out of 1 kicks. However calculating the percentages will give you the opposite.\n",
    "\n",
    "This happens because using an average to estimate the expected number only works if the number of samples is large (ideally infinite).\n",
    "\n",
    "In this notebook, I am going to tackle this problem by ranking the players using the **95% least plausible value** which means that the true parameter has only 5% chance being below this value. This idea is to incorporate uncertainty in the ranking procedure. This will be demonstrated using both PyMC and a closed form solution."
   ]
  },
  {
   "cell_type": "code",
   "execution_count": 52,
   "metadata": {
    "collapsed": true,
    "extensions": {
     "jupyter_dashboards": {
      "version": 1,
      "views": {
       "grid_default": {
        "hidden": true
       },
       "report_default": {}
      }
     }
    }
   },
   "outputs": [],
   "source": [
    "import numpy as np\n",
    "import pymc as pm\n",
    "import pandas as pd\n",
    "from IPython.core.pylabtools import figsize\n",
    "import matplotlib.pyplot as plt\n",
    "import seaborn as sns\n",
    "%matplotlib inline\n",
    "sns.set_style('whitegrid')"
   ]
  },
  {
   "cell_type": "markdown",
   "metadata": {
    "extensions": {
     "jupyter_dashboards": {
      "version": 1,
      "views": {
       "grid_default": {
        "col": 0,
        "height": 4,
        "hidden": false,
        "row": 9,
        "width": 4
       },
       "report_default": {}
      }
     }
    }
   },
   "source": [
    "## Getting data"
   ]
  },
  {
   "cell_type": "code",
   "execution_count": 9,
   "metadata": {
    "extensions": {
     "jupyter_dashboards": {
      "version": 1,
      "views": {
       "grid_default": {
        "col": 4,
        "height": 9,
        "hidden": false,
        "row": 9,
        "width": 4
       },
       "report_default": {}
      }
     }
    }
   },
   "outputs": [
    {
     "data": {
      "text/html": [
       "<div>\n",
       "<style scoped>\n",
       "    .dataframe tbody tr th:only-of-type {\n",
       "        vertical-align: middle;\n",
       "    }\n",
       "\n",
       "    .dataframe tbody tr th {\n",
       "        vertical-align: top;\n",
       "    }\n",
       "\n",
       "    .dataframe thead th {\n",
       "        text-align: right;\n",
       "    }\n",
       "</style>\n",
       "<table border=\"1\" class=\"dataframe\">\n",
       "  <thead>\n",
       "    <tr style=\"text-align: right;\">\n",
       "      <th></th>\n",
       "      <th>kicker</th>\n",
       "      <th>obs_make_ratio</th>\n",
       "      <th>n_suc_kicks</th>\n",
       "      <th>total_kicks</th>\n",
       "    </tr>\n",
       "  </thead>\n",
       "  <tbody>\n",
       "    <tr>\n",
       "      <th>0</th>\n",
       "      <td>Garrett Hartley</td>\n",
       "      <td>0.8772</td>\n",
       "      <td>57</td>\n",
       "      <td>65.0</td>\n",
       "    </tr>\n",
       "    <tr>\n",
       "      <th>1</th>\n",
       "      <td>Matt Stover</td>\n",
       "      <td>0.8687</td>\n",
       "      <td>335</td>\n",
       "      <td>386.0</td>\n",
       "    </tr>\n",
       "    <tr>\n",
       "      <th>2</th>\n",
       "      <td>Robbie Gould</td>\n",
       "      <td>0.8616</td>\n",
       "      <td>224</td>\n",
       "      <td>260.0</td>\n",
       "    </tr>\n",
       "    <tr>\n",
       "      <th>3</th>\n",
       "      <td>Rob Bironas</td>\n",
       "      <td>0.8610</td>\n",
       "      <td>223</td>\n",
       "      <td>259.0</td>\n",
       "    </tr>\n",
       "    <tr>\n",
       "      <th>4</th>\n",
       "      <td>Shayne Graham</td>\n",
       "      <td>0.8543</td>\n",
       "      <td>254</td>\n",
       "      <td>297.0</td>\n",
       "    </tr>\n",
       "  </tbody>\n",
       "</table>\n",
       "</div>"
      ],
      "text/plain": [
       "            kicker  obs_make_ratio  n_suc_kicks  total_kicks\n",
       "0  Garrett Hartley          0.8772           57         65.0\n",
       "1      Matt Stover          0.8687          335        386.0\n",
       "2     Robbie Gould          0.8616          224        260.0\n",
       "3      Rob Bironas          0.8610          223        259.0\n",
       "4    Shayne Graham          0.8543          254        297.0"
      ]
     },
     "execution_count": 9,
     "metadata": {},
     "output_type": "execute_result"
    }
   ],
   "source": [
    "# Data were extracted to csv\n",
    "# Players are ranked by 'career_make_pct' originally\n",
    "data = pd.read_csv('kicker_career_make.csv')\n",
    "data['total_kicks'] = round(data['n_suc_kicks'] / data['obs_make_ratio'])\n",
    "data.head()"
   ]
  },
  {
   "cell_type": "markdown",
   "metadata": {
    "extensions": {
     "jupyter_dashboards": {
      "version": 1,
      "views": {
       "grid_default": {
        "col": 0,
        "height": 4,
        "hidden": false,
        "row": 18,
        "width": 12
       },
       "report_default": {}
      }
     }
    }
   },
   "source": [
    "## Modelling\n",
    "\n",
    "We are interested in the **true make ratio** which is different from the **observed make ratio**. The true make ratio is the underlying probability of a player scoring."
   ]
  },
  {
   "cell_type": "code",
   "execution_count": 11,
   "metadata": {
    "extensions": {
     "jupyter_dashboards": {
      "version": 1,
      "views": {
       "grid_default": {
        "col": 8,
        "height": 4,
        "hidden": false,
        "row": 9,
        "width": 4
       },
       "report_default": {}
      }
     }
    }
   },
   "outputs": [
    {
     "name": "stdout",
     "output_type": "stream",
     "text": [
      " [-----------------100%-----------------] 20000 of 20000 complete in 0.5 sec"
     ]
    },
    {
     "name": "stderr",
     "output_type": "stream",
     "text": [
      "/anaconda/lib/python3.6/site-packages/scipy/optimize/optimize.py:1855: RuntimeWarning: invalid value encountered in absolute\n",
      "  tmp2 = numpy.abs(tmp2)\n"
     ]
    },
    {
     "name": "stdout",
     "output_type": "stream",
     "text": [
      " [-----------------100%-----------------] 20000 of 20000 complete in 0.5 sec"
     ]
    }
   ],
   "source": [
    "def get_posterior(n_suc_kicks, total_kicks, samples=int(2e4)):\n",
    "    # Using a uniform/beta(1,1) here to express my ignorance about the correct prior distribution\n",
    "#     true_make_ratio = pm.Beta('true_make_ratio', 1, 1)\n",
    "    make_ratio = pm.Uniform('make_ratio', 0, 1)\n",
    "    \n",
    "    # Using a binomial distribution here since a player either score or not\n",
    "    # So it is a sequence of N independent experiments, each with its own boolean-valued outcome\n",
    "    observations = pm.Binomial('obs', total_kicks, make_ratio, value=n_suc_kicks, observed=True)\n",
    "    \n",
    "    map_ = pm.MAP([make_ratio, observations]).fit()\n",
    "    mcmc = pm.MCMC([make_ratio, observations])\n",
    "    mcmc.sample(samples, burn=5000, thin=3)\n",
    "    return mcmc.trace('make_ratio')[:]\n",
    "\n",
    "\n",
    "def get_bounds(posterior, least_plausible_value=0.95):\n",
    "    \"\"\" Return lower and upper bounds \"\"\"\n",
    "    \n",
    "    n_samples = len(posterior)\n",
    "    return np.sort(posterior)[int((1-least_plausible_value) * n_samples)], \\\n",
    "           np.sort(posterior)[int((least_plausible_value) * n_samples)]\n",
    "\n",
    "\n",
    "data['make_ratio'] = data.apply(lambda x: get_posterior(x.n_suc_kicks, x.total_kicks), axis=1)\n",
    "data[['lower_bound', 'upper_bound']] = data.apply(lambda x: get_bounds(x.make_ratio), axis=1).apply(pd.Series)\n",
    "data['mean'] = data.make_ratio.apply(np.mean)"
   ]
  },
  {
   "cell_type": "markdown",
   "metadata": {
    "extensions": {
     "jupyter_dashboards": {
      "version": 1,
      "views": {
       "grid_default": {
        "col": 0,
        "height": 4,
        "hidden": false,
        "row": 13,
        "width": 4
       },
       "report_default": {}
      }
     }
    }
   },
   "source": [
    "## Inspect some of the outputs from PyMC"
   ]
  },
  {
   "cell_type": "code",
   "execution_count": 48,
   "metadata": {
    "extensions": {
     "jupyter_dashboards": {
      "version": 1,
      "views": {
       "grid_default": {
        "col": 0,
        "height": 13,
        "hidden": false,
        "row": 22,
        "width": 8
       },
       "report_default": {}
      }
     }
    }
   },
   "outputs": [
    {
     "data": {
      "text/html": [
       "<div>\n",
       "<style scoped>\n",
       "    .dataframe tbody tr th:only-of-type {\n",
       "        vertical-align: middle;\n",
       "    }\n",
       "\n",
       "    .dataframe tbody tr th {\n",
       "        vertical-align: top;\n",
       "    }\n",
       "\n",
       "    .dataframe thead th {\n",
       "        text-align: right;\n",
       "    }\n",
       "</style>\n",
       "<table border=\"1\" class=\"dataframe\">\n",
       "  <thead>\n",
       "    <tr style=\"text-align: right;\">\n",
       "      <th></th>\n",
       "      <th>kicker</th>\n",
       "      <th>obs_make_ratio</th>\n",
       "      <th>n_suc_kicks</th>\n",
       "      <th>total_kicks</th>\n",
       "      <th>make_ratio</th>\n",
       "      <th>lower_bound</th>\n",
       "      <th>upper_bound</th>\n",
       "      <th>mean</th>\n",
       "    </tr>\n",
       "  </thead>\n",
       "  <tbody>\n",
       "    <tr>\n",
       "      <th>0</th>\n",
       "      <td>Garrett Hartley</td>\n",
       "      <td>0.8772</td>\n",
       "      <td>57</td>\n",
       "      <td>65.0</td>\n",
       "      <td>[0.914260211012, 0.914260211012, 0.91426021101...</td>\n",
       "      <td>0.791252</td>\n",
       "      <td>0.927142</td>\n",
       "      <td>0.865192</td>\n",
       "    </tr>\n",
       "    <tr>\n",
       "      <th>10</th>\n",
       "      <td>Jeff Wilkins</td>\n",
       "      <td>0.8419</td>\n",
       "      <td>253</td>\n",
       "      <td>301.0</td>\n",
       "      <td>[0.845512985977, 0.845512985977, 0.84551298597...</td>\n",
       "      <td>0.802948</td>\n",
       "      <td>0.871933</td>\n",
       "      <td>0.838153</td>\n",
       "    </tr>\n",
       "    <tr>\n",
       "      <th>20</th>\n",
       "      <td>Jeff Reed</td>\n",
       "      <td>0.8267</td>\n",
       "      <td>277</td>\n",
       "      <td>335.0</td>\n",
       "      <td>[0.826997101279, 0.826997101279, 0.82699710127...</td>\n",
       "      <td>0.788993</td>\n",
       "      <td>0.858087</td>\n",
       "      <td>0.825035</td>\n",
       "    </tr>\n",
       "    <tr>\n",
       "      <th>30</th>\n",
       "      <td>Lawrence Tynes</td>\n",
       "      <td>0.8019</td>\n",
       "      <td>212</td>\n",
       "      <td>264.0</td>\n",
       "      <td>[0.801115182348, 0.801115182348, 0.82270693158...</td>\n",
       "      <td>0.758138</td>\n",
       "      <td>0.840574</td>\n",
       "      <td>0.801262</td>\n",
       "    </tr>\n",
       "    <tr>\n",
       "      <th>40</th>\n",
       "      <td>Nick Folk</td>\n",
       "      <td>0.7785</td>\n",
       "      <td>149</td>\n",
       "      <td>191.0</td>\n",
       "      <td>[0.801573512556, 0.733479483739, 0.73347948373...</td>\n",
       "      <td>0.725246</td>\n",
       "      <td>0.827651</td>\n",
       "      <td>0.777032</td>\n",
       "    </tr>\n",
       "    <tr>\n",
       "      <th>50</th>\n",
       "      <td>Dave Rayner</td>\n",
       "      <td>0.7222</td>\n",
       "      <td>90</td>\n",
       "      <td>125.0</td>\n",
       "      <td>[0.815880697064, 0.779255391254, 0.75549451926...</td>\n",
       "      <td>0.653561</td>\n",
       "      <td>0.782525</td>\n",
       "      <td>0.719681</td>\n",
       "    </tr>\n",
       "  </tbody>\n",
       "</table>\n",
       "</div>"
      ],
      "text/plain": [
       "             kicker  obs_make_ratio  n_suc_kicks  total_kicks  \\\n",
       "0   Garrett Hartley          0.8772           57         65.0   \n",
       "10     Jeff Wilkins          0.8419          253        301.0   \n",
       "20        Jeff Reed          0.8267          277        335.0   \n",
       "30   Lawrence Tynes          0.8019          212        264.0   \n",
       "40        Nick Folk          0.7785          149        191.0   \n",
       "50      Dave Rayner          0.7222           90        125.0   \n",
       "\n",
       "                                           make_ratio  lower_bound  \\\n",
       "0   [0.914260211012, 0.914260211012, 0.91426021101...     0.791252   \n",
       "10  [0.845512985977, 0.845512985977, 0.84551298597...     0.802948   \n",
       "20  [0.826997101279, 0.826997101279, 0.82699710127...     0.788993   \n",
       "30  [0.801115182348, 0.801115182348, 0.82270693158...     0.758138   \n",
       "40  [0.801573512556, 0.733479483739, 0.73347948373...     0.725246   \n",
       "50  [0.815880697064, 0.779255391254, 0.75549451926...     0.653561   \n",
       "\n",
       "    upper_bound      mean  \n",
       "0      0.927142  0.865192  \n",
       "10     0.871933  0.838153  \n",
       "20     0.858087  0.825035  \n",
       "30     0.840574  0.801262  \n",
       "40     0.827651  0.777032  \n",
       "50     0.782525  0.719681  "
      ]
     },
     "execution_count": 48,
     "metadata": {},
     "output_type": "execute_result"
    }
   ],
   "source": [
    "sample_idx = range(data.shape[0])[::10]\n",
    "data.iloc[sample_idx, :]"
   ]
  },
  {
   "cell_type": "code",
   "execution_count": 58,
   "metadata": {
    "extensions": {
     "jupyter_dashboards": {
      "version": 1,
      "views": {
       "grid_default": {
        "col": 8,
        "height": 7,
        "hidden": false,
        "row": 22,
        "width": 4
       },
       "report_default": {}
      }
     }
    }
   },
   "outputs": [
    {
     "data": {
      "text/plain": [
       "<matplotlib.text.Text at 0x111f2f860>"
      ]
     },
     "execution_count": 58,
     "metadata": {},
     "output_type": "execute_result"
    },
    {
     "data": {
      "image/png": "[encoded data removed]",
      "text/plain": [
       "<matplotlib.figure.Figure at 0x112328198>"
      ]
     },
     "metadata": {},
     "output_type": "display_data"
    }
   ],
   "source": [
    "fig, ax = plt.subplots(figsize = (16,6))\n",
    "\n",
    "for i in sample_idx:\n",
    "    plt.hist(data.iloc[i, 4], bins=20, normed=True, alpha=0.9, histtype='step', lw=1, label=data.iloc[i, 0])\n",
    "    plt.hist(data.iloc[i, 4], bins=20, normed=True, alpha=0.2, histtype='stepfilled', lw=3)\n",
    "    plt.vlines(data.iloc[i, 5], 0, 20, linestyles='--')\n",
    "    \n",
    "plt.legend(loc='upper left')\n",
    "plt.xlim(0, 1)\n",
    "plt.xlabel('Probability of successful kick')\n",
    "plt.ylabel('Density')\n",
    "plt.title('Posterior distributions of make ratio on selected players')"
   ]
  },
  {
   "cell_type": "markdown",
   "metadata": {
    "extensions": {
     "jupyter_dashboards": {
      "version": 1,
      "views": {
       "grid_default": {
        "col": 0,
        "height": 4,
        "hidden": false,
        "row": 35,
        "width": 12
       },
       "report_default": {}
      }
     }
    }
   },
   "source": [
    "The figure above shows the variability of the selected player's `make_ratio`. The vertical lines are the **95% least plausible value** of each distribution. Those vertical lines will be used to rank the players.\n",
    "\n",
    "Let's compare the rankings between the original and the Bayesian methods..."
   ]
  },
  {
   "cell_type": "code",
   "execution_count": 125,
   "metadata": {
    "collapsed": true,
    "extensions": {
     "jupyter_dashboards": {
      "version": 1,
      "views": {
       "grid_default": {
        "hidden": true
       },
       "report_default": {}
      }
     }
    }
   },
   "outputs": [],
   "source": [
    "data['orig_rank'] = np.argsort(-data['obs_make_ratio'])\n",
    "data['bayes_rank'] = np.argsort(-data['lower_bound']).sort_values().reset_index()"
   ]
  },
  {
   "cell_type": "code",
   "execution_count": 144,
   "metadata": {
    "extensions": {
     "jupyter_dashboards": {
      "version": 1,
      "views": {
       "grid_default": {
        "col": 0,
        "height": 25,
        "hidden": false,
        "row": 39,
        "width": 6
       },
       "report_default": {}
      }
     }
    },
    "scrolled": false
   },
   "outputs": [
    {
     "data": {
      "text/html": [
       "<div>\n",
       "<style scoped>\n",
       "    .dataframe tbody tr th:only-of-type {\n",
       "        vertical-align: middle;\n",
       "    }\n",
       "\n",
       "    .dataframe tbody tr th {\n",
       "        vertical-align: top;\n",
       "    }\n",
       "\n",
       "    .dataframe thead th {\n",
       "        text-align: right;\n",
       "    }\n",
       "</style>\n",
       "<table border=\"1\" class=\"dataframe\">\n",
       "  <thead>\n",
       "    <tr style=\"text-align: right;\">\n",
       "      <th></th>\n",
       "      <th>kicker</th>\n",
       "      <th>obs_make_ratio</th>\n",
       "      <th>total_kicks</th>\n",
       "      <th>lower_bound</th>\n",
       "      <th>orig_rank</th>\n",
       "      <th>bayes_rank</th>\n",
       "    </tr>\n",
       "  </thead>\n",
       "  <tbody>\n",
       "    <tr>\n",
       "      <th>1</th>\n",
       "      <td>Matt Stover</td>\n",
       "      <td>0.8687</td>\n",
       "      <td>386.0</td>\n",
       "      <td>0.836310</td>\n",
       "      <td>1</td>\n",
       "      <td>0</td>\n",
       "    </tr>\n",
       "    <tr>\n",
       "      <th>3</th>\n",
       "      <td>Rob Bironas</td>\n",
       "      <td>0.8610</td>\n",
       "      <td>259.0</td>\n",
       "      <td>0.821496</td>\n",
       "      <td>3</td>\n",
       "      <td>1</td>\n",
       "    </tr>\n",
       "    <tr>\n",
       "      <th>2</th>\n",
       "      <td>Robbie Gould</td>\n",
       "      <td>0.8616</td>\n",
       "      <td>260.0</td>\n",
       "      <td>0.820761</td>\n",
       "      <td>2</td>\n",
       "      <td>2</td>\n",
       "    </tr>\n",
       "    <tr>\n",
       "      <th>4</th>\n",
       "      <td>Shayne Graham</td>\n",
       "      <td>0.8543</td>\n",
       "      <td>297.0</td>\n",
       "      <td>0.818508</td>\n",
       "      <td>4</td>\n",
       "      <td>3</td>\n",
       "    </tr>\n",
       "    <tr>\n",
       "      <th>9</th>\n",
       "      <td>Adam Vinatieri</td>\n",
       "      <td>0.8431</td>\n",
       "      <td>446.0</td>\n",
       "      <td>0.812072</td>\n",
       "      <td>9</td>\n",
       "      <td>4</td>\n",
       "    </tr>\n",
       "    <tr>\n",
       "      <th>6</th>\n",
       "      <td>Joe Nedney</td>\n",
       "      <td>0.8480</td>\n",
       "      <td>295.0</td>\n",
       "      <td>0.810615</td>\n",
       "      <td>6</td>\n",
       "      <td>5</td>\n",
       "    </tr>\n",
       "    <tr>\n",
       "      <th>5</th>\n",
       "      <td>Mike Vanderjagt</td>\n",
       "      <td>0.8510</td>\n",
       "      <td>244.0</td>\n",
       "      <td>0.809317</td>\n",
       "      <td>5</td>\n",
       "      <td>6</td>\n",
       "    </tr>\n",
       "    <tr>\n",
       "      <th>13</th>\n",
       "      <td>John Kasay</td>\n",
       "      <td>0.8385</td>\n",
       "      <td>384.0</td>\n",
       "      <td>0.805499</td>\n",
       "      <td>13</td>\n",
       "      <td>7</td>\n",
       "    </tr>\n",
       "    <tr>\n",
       "      <th>14</th>\n",
       "      <td>Phil Dawson</td>\n",
       "      <td>0.8385</td>\n",
       "      <td>384.0</td>\n",
       "      <td>0.804946</td>\n",
       "      <td>14</td>\n",
       "      <td>8</td>\n",
       "    </tr>\n",
       "    <tr>\n",
       "      <th>16</th>\n",
       "      <td>David Akers</td>\n",
       "      <td>0.8315</td>\n",
       "      <td>535.0</td>\n",
       "      <td>0.804830</td>\n",
       "      <td>16</td>\n",
       "      <td>9</td>\n",
       "    </tr>\n",
       "    <tr>\n",
       "      <th>10</th>\n",
       "      <td>Jeff Wilkins</td>\n",
       "      <td>0.8419</td>\n",
       "      <td>301.0</td>\n",
       "      <td>0.802948</td>\n",
       "      <td>10</td>\n",
       "      <td>10</td>\n",
       "    </tr>\n",
       "    <tr>\n",
       "      <th>7</th>\n",
       "      <td>Stephen Gostkowski</td>\n",
       "      <td>0.8470</td>\n",
       "      <td>216.0</td>\n",
       "      <td>0.802942</td>\n",
       "      <td>7</td>\n",
       "      <td>11</td>\n",
       "    </tr>\n",
       "    <tr>\n",
       "      <th>11</th>\n",
       "      <td>Nate Kaeding</td>\n",
       "      <td>0.8419</td>\n",
       "      <td>255.0</td>\n",
       "      <td>0.802491</td>\n",
       "      <td>11</td>\n",
       "      <td>12</td>\n",
       "    </tr>\n",
       "    <tr>\n",
       "      <th>15</th>\n",
       "      <td>Matt Bryant</td>\n",
       "      <td>0.8382</td>\n",
       "      <td>288.0</td>\n",
       "      <td>0.799530</td>\n",
       "      <td>15</td>\n",
       "      <td>13</td>\n",
       "    </tr>\n",
       "    <tr>\n",
       "      <th>17</th>\n",
       "      <td>Jason Hanson</td>\n",
       "      <td>0.8302</td>\n",
       "      <td>390.0</td>\n",
       "      <td>0.795663</td>\n",
       "      <td>17</td>\n",
       "      <td>14</td>\n",
       "    </tr>\n",
       "    <tr>\n",
       "      <th>18</th>\n",
       "      <td>John Carney</td>\n",
       "      <td>0.8299</td>\n",
       "      <td>347.0</td>\n",
       "      <td>0.795466</td>\n",
       "      <td>18</td>\n",
       "      <td>15</td>\n",
       "    </tr>\n",
       "    <tr>\n",
       "      <th>22</th>\n",
       "      <td>Ryan Longwell</td>\n",
       "      <td>0.8249</td>\n",
       "      <td>429.0</td>\n",
       "      <td>0.792727</td>\n",
       "      <td>22</td>\n",
       "      <td>16</td>\n",
       "    </tr>\n",
       "    <tr>\n",
       "      <th>0</th>\n",
       "      <td>Garrett Hartley</td>\n",
       "      <td>0.8772</td>\n",
       "      <td>65.0</td>\n",
       "      <td>0.791252</td>\n",
       "      <td>0</td>\n",
       "      <td>17</td>\n",
       "    </tr>\n",
       "  </tbody>\n",
       "</table>\n",
       "</div>"
      ],
      "text/plain": [
       "                kicker  obs_make_ratio  total_kicks  lower_bound  orig_rank  \\\n",
       "1          Matt Stover          0.8687        386.0     0.836310          1   \n",
       "3          Rob Bironas          0.8610        259.0     0.821496          3   \n",
       "2         Robbie Gould          0.8616        260.0     0.820761          2   \n",
       "4        Shayne Graham          0.8543        297.0     0.818508          4   \n",
       "9       Adam Vinatieri          0.8431        446.0     0.812072          9   \n",
       "6           Joe Nedney          0.8480        295.0     0.810615          6   \n",
       "5      Mike Vanderjagt          0.8510        244.0     0.809317          5   \n",
       "13          John Kasay          0.8385        384.0     0.805499         13   \n",
       "14         Phil Dawson          0.8385        384.0     0.804946         14   \n",
       "16         David Akers          0.8315        535.0     0.804830         16   \n",
       "10        Jeff Wilkins          0.8419        301.0     0.802948         10   \n",
       "7   Stephen Gostkowski          0.8470        216.0     0.802942          7   \n",
       "11        Nate Kaeding          0.8419        255.0     0.802491         11   \n",
       "15         Matt Bryant          0.8382        288.0     0.799530         15   \n",
       "17        Jason Hanson          0.8302        390.0     0.795663         17   \n",
       "18         John Carney          0.8299        347.0     0.795466         18   \n",
       "22       Ryan Longwell          0.8249        429.0     0.792727         22   \n",
       "0      Garrett Hartley          0.8772         65.0     0.791252          0   \n",
       "\n",
       "    bayes_rank  \n",
       "1            0  \n",
       "3            1  \n",
       "2            2  \n",
       "4            3  \n",
       "9            4  \n",
       "6            5  \n",
       "5            6  \n",
       "13           7  \n",
       "14           8  \n",
       "16           9  \n",
       "10          10  \n",
       "7           11  \n",
       "11          12  \n",
       "15          13  \n",
       "17          14  \n",
       "18          15  \n",
       "22          16  \n",
       "0           17  "
      ]
     },
     "execution_count": 144,
     "metadata": {},
     "output_type": "execute_result"
    }
   ],
   "source": [
    "data[['kicker', 'obs_make_ratio', 'total_kicks', 'lower_bound', 'orig_rank', 'bayes_rank']]\\\n",
    ".sort_values('bayes_rank')\\\n",
    ".head(18)"
   ]
  },
  {
   "cell_type": "code",
   "execution_count": 140,
   "metadata": {
    "extensions": {
     "jupyter_dashboards": {
      "version": 1,
      "views": {
       "grid_default": {
        "col": 6,
        "height": 15,
        "hidden": false,
        "row": 39,
        "width": 6
       },
       "report_default": {}
      }
     }
    }
   },
   "outputs": [
    {
     "data": {
      "text/html": [
       "<div>\n",
       "<style scoped>\n",
       "    .dataframe tbody tr th:only-of-type {\n",
       "        vertical-align: middle;\n",
       "    }\n",
       "\n",
       "    .dataframe tbody tr th {\n",
       "        vertical-align: top;\n",
       "    }\n",
       "\n",
       "    .dataframe thead th {\n",
       "        text-align: right;\n",
       "    }\n",
       "</style>\n",
       "<table border=\"1\" class=\"dataframe\">\n",
       "  <thead>\n",
       "    <tr style=\"text-align: right;\">\n",
       "      <th></th>\n",
       "      <th>kicker</th>\n",
       "      <th>obs_make_ratio</th>\n",
       "      <th>total_kicks</th>\n",
       "      <th>lower_bound</th>\n",
       "      <th>orig_rank</th>\n",
       "      <th>bayes_rank</th>\n",
       "    </tr>\n",
       "  </thead>\n",
       "  <tbody>\n",
       "    <tr>\n",
       "      <th>48</th>\n",
       "      <td>John Hall</td>\n",
       "      <td>0.7485</td>\n",
       "      <td>228.0</td>\n",
       "      <td>0.700546</td>\n",
       "      <td>48</td>\n",
       "      <td>45</td>\n",
       "    </tr>\n",
       "    <tr>\n",
       "      <th>43</th>\n",
       "      <td>Mike Hollis</td>\n",
       "      <td>0.7701</td>\n",
       "      <td>113.0</td>\n",
       "      <td>0.696947</td>\n",
       "      <td>43</td>\n",
       "      <td>46</td>\n",
       "    </tr>\n",
       "    <tr>\n",
       "      <th>37</th>\n",
       "      <td>Steven Hauschka</td>\n",
       "      <td>0.7885</td>\n",
       "      <td>66.0</td>\n",
       "      <td>0.692372</td>\n",
       "      <td>37</td>\n",
       "      <td>47</td>\n",
       "    </tr>\n",
       "    <tr>\n",
       "      <th>47</th>\n",
       "      <td>Steve Christie</td>\n",
       "      <td>0.7500</td>\n",
       "      <td>160.0</td>\n",
       "      <td>0.688764</td>\n",
       "      <td>47</td>\n",
       "      <td>48</td>\n",
       "    </tr>\n",
       "    <tr>\n",
       "      <th>49</th>\n",
       "      <td>Graham Gano</td>\n",
       "      <td>0.7375</td>\n",
       "      <td>108.0</td>\n",
       "      <td>0.667837</td>\n",
       "      <td>49</td>\n",
       "      <td>49</td>\n",
       "    </tr>\n",
       "    <tr>\n",
       "      <th>50</th>\n",
       "      <td>Dave Rayner</td>\n",
       "      <td>0.7222</td>\n",
       "      <td>125.0</td>\n",
       "      <td>0.653561</td>\n",
       "      <td>50</td>\n",
       "      <td>50</td>\n",
       "    </tr>\n",
       "    <tr>\n",
       "      <th>51</th>\n",
       "      <td>Nick Novak</td>\n",
       "      <td>0.7188</td>\n",
       "      <td>89.0</td>\n",
       "      <td>0.636666</td>\n",
       "      <td>51</td>\n",
       "      <td>51</td>\n",
       "    </tr>\n",
       "    <tr>\n",
       "      <th>53</th>\n",
       "      <td>Jose Cortez</td>\n",
       "      <td>0.7067</td>\n",
       "      <td>106.0</td>\n",
       "      <td>0.631352</td>\n",
       "      <td>53</td>\n",
       "      <td>52</td>\n",
       "    </tr>\n",
       "    <tr>\n",
       "      <th>52</th>\n",
       "      <td>Tim Seder</td>\n",
       "      <td>0.7097</td>\n",
       "      <td>87.0</td>\n",
       "      <td>0.629359</td>\n",
       "      <td>52</td>\n",
       "      <td>53</td>\n",
       "    </tr>\n",
       "    <tr>\n",
       "      <th>54</th>\n",
       "      <td>Wade Richey</td>\n",
       "      <td>0.6607</td>\n",
       "      <td>85.0</td>\n",
       "      <td>0.569342</td>\n",
       "      <td>54</td>\n",
       "      <td>54</td>\n",
       "    </tr>\n",
       "  </tbody>\n",
       "</table>\n",
       "</div>"
      ],
      "text/plain": [
       "             kicker  obs_make_ratio  total_kicks  lower_bound  orig_rank  \\\n",
       "48        John Hall          0.7485        228.0     0.700546         48   \n",
       "43      Mike Hollis          0.7701        113.0     0.696947         43   \n",
       "37  Steven Hauschka          0.7885         66.0     0.692372         37   \n",
       "47   Steve Christie          0.7500        160.0     0.688764         47   \n",
       "49      Graham Gano          0.7375        108.0     0.667837         49   \n",
       "50      Dave Rayner          0.7222        125.0     0.653561         50   \n",
       "51       Nick Novak          0.7188         89.0     0.636666         51   \n",
       "53      Jose Cortez          0.7067        106.0     0.631352         53   \n",
       "52        Tim Seder          0.7097         87.0     0.629359         52   \n",
       "54      Wade Richey          0.6607         85.0     0.569342         54   \n",
       "\n",
       "    bayes_rank  \n",
       "48          45  \n",
       "43          46  \n",
       "37          47  \n",
       "47          48  \n",
       "49          49  \n",
       "50          50  \n",
       "51          51  \n",
       "53          52  \n",
       "52          53  \n",
       "54          54  "
      ]
     },
     "execution_count": 140,
     "metadata": {},
     "output_type": "execute_result"
    }
   ],
   "source": [
    "data[['kicker', 'obs_make_ratio', 'total_kicks', 'lower_bound', 'orig_rank', 'bayes_rank']]\\\n",
    ".sort_values('bayes_rank')\\\n",
    ".tail(10)"
   ]
  },
  {
   "cell_type": "markdown",
   "metadata": {
    "extensions": {
     "jupyter_dashboards": {
      "version": 1,
      "views": {
       "grid_default": {
        "col": 0,
        "height": 8,
        "hidden": false,
        "row": 64,
        "width": 12
       },
       "report_default": {}
      }
     }
    }
   },
   "source": [
    "We can see that using the Bayesian method, the originally top player Garrett Hartley has moved to position 17. This is mainly due to the fact that he has had a lot fewer kicks, meaning higher the uncertainty of his ability. Whereas Matt Stover has moved to the top where he deserves.\n",
    "\n",
    "As we look at the head and tail of the dataframe, we can see that the top ranked kickers generally have higher number of total kicks, whereas low ranked kickers have fewer. This makes sense as those players with fewer kicks have higher uncertainty and hence have wider distributions and lower 95% least plausible value.\n",
    "\n",
    "# Appendix\n",
    "\n",
    "## Closed form solution\n",
    "\n",
    "Since Beta and binomial distributions have a conjugate relationship, the posterior distribution has a closed form solution (MCMC is not required here):  \n",
    "\n",
    "$$Beta(a, b)$$ \n",
    "where $$a = 1 + suc$$ and $$b = 1 + (N - suc)$$\n",
    "\n",
    "### Evaluate the 95% least plausible value\n",
    "\n",
    "- We want to evaluate *x* such that 0.05 probability is less than *x*. This can be done by inverting the CDF of our posterior Beta distribution. \n",
    "\n",
    "- For easier/quicker evaluation of the CDF, we can use a Normal approximation for a Beta distribution when `a` and `b` are greater than 10.\n",
    "\n",
    "- From Wikipedia, we know that for a Beta distribution\n",
    "\n",
    "$$mu = \\frac{a}{a + b}$$\n",
    "\n",
    "$$var = \\frac{ab}{(a + b)^2(a + b + 1)}$$\n",
    "\n",
    "\n",
    "- Hence we can approximate x (lower bound) from:\n",
    "\n",
    "$$0.05 = \\Phi( \\frac{x - mu}{std} )$$\n",
    "\n",
    "$$x = mu - 1.65  std$$"
   ]
  },
  {
   "cell_type": "code",
   "execution_count": null,
   "metadata": {
    "collapsed": true
   },
   "outputs": [],
   "source": [
    "def get_conv_lpv(N, suc, threshold=0.95):\n",
    "    \"\"\"\n",
    "    Conversion: least plausible value (lpv)\n",
    "    \n",
    "    Parameters\n",
    "    ---\n",
    "    N: int\n",
    "        Total number of trials (look)\n",
    "    suc: int\n",
    "        Number of successes (book)\n",
    "    threshold: float\n",
    "        \n",
    "    \"\"\"\n",
    "    \n",
    "    # params for conversion posterior distribution\n",
    "    a = 1 + suc\n",
    "    b = 1 + (N - suc)\n",
    "    \n",
    "    # mean and variance of the Beta posterior distribution\n",
    "    mu = a / (a + b)\n",
    "    var = a * b / (((a + b)**2) * (a + b + 1))\n",
    "    \n",
    "    # normal approximation of Beta distribution to obtain least plausible value\n",
    "    x = np.abs(norm.ppf(1 - threshold, mu, var**0.5))\n",
    "    lpv = mu - x * var**0.5\n",
    "    \n",
    "    return lpv"
   ]
  },
  {
   "cell_type": "markdown",
   "metadata": {},
   "source": [
    "# References\n",
    "Cameron Davidson-Pilon, _Bayesian Methods for Hackers_"
   ]
  }
 ],
 "metadata": {
  "extensions": {
   "jupyter_dashboards": {
    "activeView": "grid_default",
    "version": 1,
    "views": {
     "grid_default": {
      "cellMargin": 10,
      "defaultCellHeight": 20,
      "maxColumns": 12,
      "name": "grid",
      "type": "grid"
     },
     "report_default": {
      "name": "report",
      "type": "report"
     }
    }
   }
  },
  "kernelspec": {
   "display_name": "Python 3",
   "language": "python",
   "name": "python3"
  },
  "language_info": {
   "codemirror_mode": {
    "name": "ipython",
    "version": 3
   },
   "file_extension": ".py",
   "mimetype": "text/x-python",
   "name": "python",
   "nbconvert_exporter": "python",
   "pygments_lexer": "ipython3",
   "version": "3.6.1"
  }
 },
 "nbformat": 4,
 "nbformat_minor": 2
}
